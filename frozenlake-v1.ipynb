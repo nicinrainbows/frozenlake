{
 "cells": [
  {
   "cell_type": "code",
   "execution_count": 1,
   "id": "d509b172",
   "metadata": {},
   "outputs": [],
   "source": [
    "import gym\n",
    "import numpy as np\n",
    "import time\n",
    "from matplotlib import pyplot as plt"
   ]
  },
  {
   "cell_type": "code",
   "execution_count": 2,
   "id": "a8089c8b",
   "metadata": {},
   "outputs": [],
   "source": [
    "class Agent():\n",
    "    def __init__(self, env, total_episodes, step_limit, epsilon, epsilon_decay,\n",
    "                 min_epsilon, gamma, alpha, alpha_decay, min_alpha):\n",
    "        self.env = env\n",
    "        self.action_space = env.action_space.n\n",
    "        self.observation_space = env.observation_space.n\n",
    "        self.qtable = np.zeros((self.observation_space, self.action_space))\n",
    "        self.total_rewards = []\n",
    "        self.total_steps = []\n",
    "        self.total_episodes = total_episodes\n",
    "        self.step_limit = step_limit\n",
    "        self.epsilon = epsilon\n",
    "        self.epsilon_decay = epsilon_decay\n",
    "        self.min_epsilon = min_epsilon\n",
    "        self.gamma = gamma\n",
    "        self.alpha = alpha\n",
    "        self.alpha_decay = alpha_decay\n",
    "        self.min_alpha = min_alpha\n",
    "    \n",
    "    def alpha_schedule(self, episode):\n",
    "        if (episode + 1) % 1000 == 0:\n",
    "            self.alpha *= self.alpha * self.alpha_decay\n",
    "            self.alpha = max(self.alpha, self.min_alpha)\n",
    "    \n",
    "    def epsilon_schedule(self, episode):\n",
    "        if (episode + 1) % 1000 == 0:\n",
    "            self.epsilon *= self.epsilon * self.epsilon_decay\n",
    "            self.epsilon = max(self.epsilon, self.min_epsilon)\n",
    "    \n",
    "    def learn(self, state_old, state_new, reward, action):\n",
    "        prediction = self.qtable[state_old, action]\n",
    "        target = reward + self.gamma * np.max(self.qtable[state_new, :])\n",
    "        self.qtable[state_old, action] = self.qtable[state_old, action] + self.alpha * (target - prediction)\n",
    "    \n",
    "    def choose_action(self, state):\n",
    "        action = 0\n",
    "        if np.random.uniform(0, 1) < self.epsilon:\n",
    "            action = self.env.action_space.sample()\n",
    "        else:\n",
    "            action = np.argmax(self.qtable[state, :])\n",
    "        return action\n",
    "    \n",
    "    def train(self):\n",
    "        episode_print_split = self.total_episodes // 5\n",
    "        for episode in range(self.total_episodes):\n",
    "            state = self.env.reset()\n",
    "            t = 0\n",
    "            done = False\n",
    "            self.alpha_schedule(episode)\n",
    "            self.epsilon_schedule(episode)\n",
    "            for t in range(step_limit):\n",
    "                action = self.choose_action(state)\n",
    "                state_new, reward, done, info = self.env.step(action)\n",
    "                self.learn(state, state_new, reward, action)\n",
    "                state = state_new\n",
    "                t += 1\n",
    "                if done:\n",
    "                    self.total_rewards.append(reward)\n",
    "                    self.total_steps.append(t)\n",
    "                    if (episode + 1) % episode_print_split == 0:\n",
    "                        if reward > 0.0:\n",
    "                            outcome = 'win'\n",
    "                        else:\n",
    "                            outcome = 'lose'\n",
    "                        print(f'Episode {episode} | {t} steps | {outcome}')\n",
    "                    break\n",
    "        print('')\n",
    "        total_win_rate = sum(self.total_rewards) / self.total_episodes\n",
    "        print(f'Total win rate {total_win_rate}')\n",
    "\n",
    "    def moving_average(self, window):\n",
    "        weights = np.repeat(1.0, window) / window\n",
    "        simple_moving_average = np.convolve(self.total_rewards, weights, 'valid')\n",
    "        return simple_moving_average"
   ]
  },
  {
   "cell_type": "code",
   "execution_count": 16,
   "id": "fdeb07fc",
   "metadata": {},
   "outputs": [
    {
     "name": "stdout",
     "output_type": "stream",
     "text": [
      "Episode 19999 | 28 steps | win\n",
      "Episode 39999 | 42 steps | lose\n",
      "Episode 59999 | 69 steps | win\n",
      "Episode 79999 | 81 steps | lose\n",
      "Episode 99999 | 37 steps | lose\n",
      "\n",
      "Total win rate 0.71756\n"
     ]
    }
   ],
   "source": [
    "total_episodes = 100000\n",
    "step_limit = 100 # max steps per episode\n",
    "epsilon = 1\n",
    "epsilon_decay = 0.2\n",
    "min_epsilon = 1e-4\n",
    "gamma = 0.95\n",
    "alpha = 0.8\n",
    "alpha_decay = 0.3\n",
    "min_alpha = 1e-4\n",
    "\n",
    "env = gym.make('FrozenLake-v1')\n",
    "frozenlake = Agent(env, total_episodes, step_limit, epsilon, epsilon_decay,\n",
    "                 min_epsilon, gamma, alpha, alpha_decay, min_alpha)\n",
    "frozenlake.train()"
   ]
  },
  {
   "cell_type": "code",
   "execution_count": 17,
   "id": "22420082",
   "metadata": {},
   "outputs": [
    {
     "data": {
      "text/plain": [
       "[<matplotlib.lines.Line2D at 0x24525fcf148>]"
      ]
     },
     "execution_count": 17,
     "metadata": {},
     "output_type": "execute_result"
    },
    {
     "data": {
      "image/png": "[encoded data removed]",
      "text/plain": [
       "<Figure size 600x400 with 1 Axes>"
      ]
     },
     "metadata": {
      "needs_background": "light"
     },
     "output_type": "display_data"
    }
   ],
   "source": [
    "window = 100\n",
    "average_reward = frozenlake.moving_average(window)\n",
    "\n",
    "plt.figure(dpi = 100)\n",
    "plt.title(f'Episode return simple moving average[{window}]')\n",
    "plt.ylabel('Reward')\n",
    "plt.xlabel('Episode')\n",
    "plt.plot(average_reward)"
   ]
  },
  {
   "cell_type": "code",
   "execution_count": null,
   "id": "289caf17",
   "metadata": {},
   "outputs": [],
   "source": []
  }
 ],
 "metadata": {
  "kernelspec": {
   "display_name": "Python 3 (ipykernel)",
   "language": "python",
   "name": "python3"
  },
  "language_info": {
   "codemirror_mode": {
    "name": "ipython",
    "version": 3
   },
   "file_extension": ".py",
   "mimetype": "text/x-python",
   "name": "python",
   "nbconvert_exporter": "python",
   "pygments_lexer": "ipython3",
   "version": "3.7.9"
  }
 },
 "nbformat": 4,
 "nbformat_minor": 5
}
